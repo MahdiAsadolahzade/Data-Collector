{
 "cells": [
  {
   "cell_type": "markdown",
   "id": "81e9ade0-dea5-4895-aecf-acd70897aac6",
   "metadata": {},
   "source": [
    "The data collector is a Python script designed to extract specific information from web pages. It uses the requests library to send HTTP requests to a target website and BeautifulSoup, a popular Python library, to parse and extract data from the HTML content of the web pages. This script can be customized to scrape data from various websites, making it a versatile tool for web scraping and data extraction tasks."
   ]
  },
  {
   "cell_type": "markdown",
   "id": "afa2f0e9-a82f-4a96-8f25-35906fc49450",
   "metadata": {},
   "source": [
    "Libraryes :"
   ]
  },
  {
   "cell_type": "code",
   "execution_count": 3,
   "id": "ce3c3890-32de-40e9-bc43-8d6552fef3be",
   "metadata": {},
   "outputs": [],
   "source": [
    "\n",
    "import requests\n",
    "from bs4 import BeautifulSoup\n"
   ]
  },
  {
   "cell_type": "markdown",
   "id": "d8c341cc-11d8-490b-b48c-5710bf630a7a",
   "metadata": {},
   "source": [
    "Code"
   ]
  },
  {
   "cell_type": "code",
   "execution_count": null,
   "id": "b52d160a-c8ec-4d33-a2fa-68133ada65a8",
   "metadata": {
    "scrolled": true
   },
   "outputs": [],
   "source": [
    "import requests\n",
    "from bs4 import BeautifulSoup\n",
    "\n",
    "# Request the URL from the user\n",
    "url = input(\"Please enter the URL of the website: \")\n",
    "\n",
    "# Request the HTML tags of interest from the user\n",
    "selected_tags = input(\"Please enter the HTML tags you want to select (e.g., div, span, h1): \")\n",
    "\n",
    "# Request the CSS style of interest from the user\n",
    "selected_style = input(\"Please enter the CSS style you want to find (e.g., color, font-size): \")\n",
    "\n",
    "# Send a GET request to the website\n",
    "response = requests.get(url)\n",
    "\n",
    "# Check the success of the request\n",
    "if response.status_code == 200:\n",
    "    # Convert the website's content into a parseable structure with BeautifulSoup\n",
    "    soup = BeautifulSoup(response.text, 'html.parser')\n",
    "\n",
    "    # Collect headlines based on selected tags and style\n",
    "    headlines = soup.find_all(selected_tags, class_=selected_style)\n",
    "\n",
    "    # Print the headlines\n",
    "    for i, headline in enumerate(headlines, start=1):\n",
    "        print(f\"{i}. {headline.text.strip()}\")\n",
    "else:\n",
    "    print(\"The request was unsuccessful. Status code: \", response.status_code)\n"
   ]
  },
  {
   "cell_type": "code",
   "execution_count": null,
   "id": "f1e24878-189a-4c01-bece-c6f268f676bf",
   "metadata": {},
   "outputs": [],
   "source": []
  }
 ],
 "metadata": {
  "kernelspec": {
   "display_name": "Python 3 (ipykernel)",
   "language": "python",
   "name": "python3"
  },
  "language_info": {
   "codemirror_mode": {
    "name": "ipython",
    "version": 3
   },
   "file_extension": ".py",
   "mimetype": "text/x-python",
   "name": "python",
   "nbconvert_exporter": "python",
   "pygments_lexer": "ipython3",
   "version": "3.10.6"
  }
 },
 "nbformat": 4,
 "nbformat_minor": 5
}
